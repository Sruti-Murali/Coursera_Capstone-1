{
 "cells": [
  {
   "cell_type": "markdown",
   "metadata": {},
   "source": [
    "# All the credentials will be stored here"
   ]
  },
  {
   "cell_type": "code",
   "execution_count": 1,
   "metadata": {},
   "outputs": [],
   "source": [
    "# @hidden\n",
    "# initializing foursquare API credentials, kundantest1234@zohomail.com\n",
    "CLIENT_ID = 'ONXQAZDGDXM0J2NWDIO15QUNYVAYXIP2GEAKGFDMOY01BPZ5' # your Foursquare ID\n",
    "CLIENT_SECRET = '15QX0C5ZDA2WTU0QRKARHH4SUTMRMAJFISIZAWSPOE4I0ITX' # your Foursquare Secret\n",
    "VERSION = '20180605' # Foursquare API version\n",
    "LIMIT = 100"
   ]
  },
  {
   "cell_type": "code",
   "execution_count": 3,
   "metadata": {},
   "outputs": [],
   "source": [
    "# @hidden\n",
    "# initializing foursquare API credentials, bitcivil2k16@zohomail.com\n",
    "CLIENT_ID = '0XBHK2D0ZYU2SGO2GFJHEEPBLBOI2N5HY33TFTHK5VYM1VPP' # your Foursquare ID\n",
    "CLIENT_SECRET = 'WOWHI5MO1M2FH2V3JTAHSAZRH4TE4YKA3HDOT5BUNHXFHL4U' # your Foursquare Secret\n",
    "VERSION = '20180605' # Foursquare API version\n",
    "LIMIT = 100"
   ]
  },
  {
   "cell_type": "code",
   "execution_count": null,
   "metadata": {},
   "outputs": [],
   "source": []
  }
 ],
 "metadata": {
  "kernelspec": {
   "display_name": "Python 3",
   "language": "python",
   "name": "python3"
  },
  "language_info": {
   "codemirror_mode": {
    "name": "ipython",
    "version": 3
   },
   "file_extension": ".py",
   "mimetype": "text/x-python",
   "name": "python",
   "nbconvert_exporter": "python",
   "pygments_lexer": "ipython3",
   "version": "3.7.3"
  }
 },
 "nbformat": 4,
 "nbformat_minor": 2
}
