{
 "cells": [
  {
   "cell_type": "markdown",
   "metadata": {},
   "source": [
    "# Download nearby venues data from foursquare API for Ranchi villages, using a csv which contains village latitude and longitude"
   ]
  },
  {
   "cell_type": "code",
   "execution_count": 2,
   "metadata": {},
   "outputs": [],
   "source": [
    "import pandas as pd\n",
    "import requests"
   ]
  },
  {
   "cell_type": "code",
   "execution_count": 3,
   "metadata": {},
   "outputs": [],
   "source": [
    "df = pd.read_csv('ranchi_villages.csv')"
   ]
  },
  {
   "cell_type": "code",
   "execution_count": 4,
   "metadata": {},
   "outputs": [
    {
     "data": {
      "text/html": [
       "<div>\n",
       "<style scoped>\n",
       "    .dataframe tbody tr th:only-of-type {\n",
       "        vertical-align: middle;\n",
       "    }\n",
       "\n",
       "    .dataframe tbody tr th {\n",
       "        vertical-align: top;\n",
       "    }\n",
       "\n",
       "    .dataframe thead th {\n",
       "        text-align: right;\n",
       "    }\n",
       "</style>\n",
       "<table border=\"1\" class=\"dataframe\">\n",
       "  <thead>\n",
       "    <tr style=\"text-align: right;\">\n",
       "      <th></th>\n",
       "      <th>Unnamed: 0</th>\n",
       "      <th>Village</th>\n",
       "      <th>Block</th>\n",
       "      <th>District</th>\n",
       "      <th>Latitude</th>\n",
       "      <th>Longitude</th>\n",
       "    </tr>\n",
       "  </thead>\n",
       "  <tbody>\n",
       "    <tr>\n",
       "      <th>0</th>\n",
       "      <td>0</td>\n",
       "      <td>Agartoli</td>\n",
       "      <td>Angara</td>\n",
       "      <td>Ranchi</td>\n",
       "      <td>23.376190</td>\n",
       "      <td>85.439278</td>\n",
       "    </tr>\n",
       "    <tr>\n",
       "      <th>1</th>\n",
       "      <td>1</td>\n",
       "      <td>Angara</td>\n",
       "      <td>Angara</td>\n",
       "      <td>Ranchi</td>\n",
       "      <td>23.376190</td>\n",
       "      <td>85.439278</td>\n",
       "    </tr>\n",
       "    <tr>\n",
       "      <th>2</th>\n",
       "      <td>2</td>\n",
       "      <td>Asri</td>\n",
       "      <td>Angara</td>\n",
       "      <td>Ranchi</td>\n",
       "      <td>23.357210</td>\n",
       "      <td>85.666901</td>\n",
       "    </tr>\n",
       "    <tr>\n",
       "      <th>3</th>\n",
       "      <td>3</td>\n",
       "      <td>Badri</td>\n",
       "      <td>Angara</td>\n",
       "      <td>Ranchi</td>\n",
       "      <td>23.432671</td>\n",
       "      <td>85.633270</td>\n",
       "    </tr>\n",
       "    <tr>\n",
       "      <th>4</th>\n",
       "      <td>4</td>\n",
       "      <td>Baheya</td>\n",
       "      <td>Angara</td>\n",
       "      <td>Ranchi</td>\n",
       "      <td>23.370399</td>\n",
       "      <td>85.487930</td>\n",
       "    </tr>\n",
       "  </tbody>\n",
       "</table>\n",
       "</div>"
      ],
      "text/plain": [
       "   Unnamed: 0   Village   Block District   Latitude  Longitude\n",
       "0           0  Agartoli  Angara   Ranchi  23.376190  85.439278\n",
       "1           1    Angara  Angara   Ranchi  23.376190  85.439278\n",
       "2           2      Asri  Angara   Ranchi  23.357210  85.666901\n",
       "3           3     Badri  Angara   Ranchi  23.432671  85.633270\n",
       "4           4    Baheya  Angara   Ranchi  23.370399  85.487930"
      ]
     },
     "execution_count": 4,
     "metadata": {},
     "output_type": "execute_result"
    }
   ],
   "source": [
    "df.head()"
   ]
  },
  {
   "cell_type": "code",
   "execution_count": 5,
   "metadata": {},
   "outputs": [
    {
     "name": "stdout",
     "output_type": "stream",
     "text": [
      "<class 'pandas.core.frame.DataFrame'>\n",
      "Int64Index: 1903 entries, 0 to 1903\n",
      "Data columns (total 5 columns):\n",
      "Village      1903 non-null object\n",
      "Block        1903 non-null object\n",
      "District     1903 non-null object\n",
      "Latitude     1903 non-null float64\n",
      "Longitude    1903 non-null float64\n",
      "dtypes: float64(2), object(3)\n",
      "memory usage: 89.2+ KB\n"
     ]
    }
   ],
   "source": [
    "df.dropna(inplace=True)\n",
    "df.drop(['Unnamed: 0'],axis=1,inplace=True)\n",
    "df.info()"
   ]
  },
  {
   "cell_type": "code",
   "execution_count": 6,
   "metadata": {},
   "outputs": [
    {
     "data": {
      "text/html": [
       "<div>\n",
       "<style scoped>\n",
       "    .dataframe tbody tr th:only-of-type {\n",
       "        vertical-align: middle;\n",
       "    }\n",
       "\n",
       "    .dataframe tbody tr th {\n",
       "        vertical-align: top;\n",
       "    }\n",
       "\n",
       "    .dataframe thead th {\n",
       "        text-align: right;\n",
       "    }\n",
       "</style>\n",
       "<table border=\"1\" class=\"dataframe\">\n",
       "  <thead>\n",
       "    <tr style=\"text-align: right;\">\n",
       "      <th></th>\n",
       "      <th>Village</th>\n",
       "      <th>Block</th>\n",
       "      <th>District</th>\n",
       "      <th>Latitude</th>\n",
       "      <th>Longitude</th>\n",
       "    </tr>\n",
       "  </thead>\n",
       "  <tbody>\n",
       "    <tr>\n",
       "      <th>0</th>\n",
       "      <td>Agartoli</td>\n",
       "      <td>Angara</td>\n",
       "      <td>Ranchi</td>\n",
       "      <td>23.376190</td>\n",
       "      <td>85.439278</td>\n",
       "    </tr>\n",
       "    <tr>\n",
       "      <th>1</th>\n",
       "      <td>Angara</td>\n",
       "      <td>Angara</td>\n",
       "      <td>Ranchi</td>\n",
       "      <td>23.376190</td>\n",
       "      <td>85.439278</td>\n",
       "    </tr>\n",
       "    <tr>\n",
       "      <th>2</th>\n",
       "      <td>Asri</td>\n",
       "      <td>Angara</td>\n",
       "      <td>Ranchi</td>\n",
       "      <td>23.357210</td>\n",
       "      <td>85.666901</td>\n",
       "    </tr>\n",
       "    <tr>\n",
       "      <th>3</th>\n",
       "      <td>Badri</td>\n",
       "      <td>Angara</td>\n",
       "      <td>Ranchi</td>\n",
       "      <td>23.432671</td>\n",
       "      <td>85.633270</td>\n",
       "    </tr>\n",
       "    <tr>\n",
       "      <th>4</th>\n",
       "      <td>Baheya</td>\n",
       "      <td>Angara</td>\n",
       "      <td>Ranchi</td>\n",
       "      <td>23.370399</td>\n",
       "      <td>85.487930</td>\n",
       "    </tr>\n",
       "  </tbody>\n",
       "</table>\n",
       "</div>"
      ],
      "text/plain": [
       "    Village   Block District   Latitude  Longitude\n",
       "0  Agartoli  Angara   Ranchi  23.376190  85.439278\n",
       "1    Angara  Angara   Ranchi  23.376190  85.439278\n",
       "2      Asri  Angara   Ranchi  23.357210  85.666901\n",
       "3     Badri  Angara   Ranchi  23.432671  85.633270\n",
       "4    Baheya  Angara   Ranchi  23.370399  85.487930"
      ]
     },
     "execution_count": 6,
     "metadata": {},
     "output_type": "execute_result"
    }
   ],
   "source": [
    "df.head()"
   ]
  },
  {
   "cell_type": "markdown",
   "metadata": {},
   "source": [
    "## Define a function to get nearbyplaces based on latitude and longitude"
   ]
  },
  {
   "cell_type": "code",
   "execution_count": 7,
   "metadata": {},
   "outputs": [],
   "source": [
    "# intialize a function to get all the venue in the neighbourhood\n",
    "def getNearbyVenues(names, latitudes, longitudes, radius=500):\n",
    "    \n",
    "    venues_list=[]\n",
    "    for name, lat, lng in zip(names, latitudes, longitudes):\n",
    "                    \n",
    "        # create the API request URL\n",
    "        url = 'https://api.foursquare.com/v2/venues/explore?&client_id={}&client_secret={}&v={}&ll={},{}&radius={}&limit={}'.format(\n",
    "            CLIENT_ID, \n",
    "            CLIENT_SECRET, \n",
    "            VERSION, \n",
    "            lat, \n",
    "            lng, \n",
    "            radius, \n",
    "            LIMIT)\n",
    "            \n",
    "        # make the GET request\n",
    "        results = requests.get(url).json()[\"response\"]['groups'][0]['items']\n",
    "        \n",
    "        # return only relevant information for each nearby venue\n",
    "        venues_list.append([(\n",
    "            name, \n",
    "            lat, \n",
    "            lng, \n",
    "            v['venue']['name'], \n",
    "            v['venue']['location']['lat'], \n",
    "            v['venue']['location']['lng'],  \n",
    "            v['venue']['categories'][0]['name']) for v in results])\n",
    "\n",
    "    nearby_venues = pd.DataFrame([item for venue_list in venues_list for item in venue_list])\n",
    "    nearby_venues.columns = ['Village', \n",
    "                  'Village Latitude', \n",
    "                  'Village Longitude', \n",
    "                  'Venue', \n",
    "                  'Venue Latitude', \n",
    "                  'Venue Longitude', \n",
    "                  'Venue Category']\n",
    "    \n",
    "    return(nearby_venues)"
   ]
  },
  {
   "cell_type": "markdown",
   "metadata": {},
   "source": [
    "### Since the API only allows 950 calls per day, and there are 1903 entries. The call will be done in three parts with three slices of data frame with three different API keys"
   ]
  },
  {
   "cell_type": "code",
   "execution_count": 8,
   "metadata": {},
   "outputs": [],
   "source": [
    "# Client Key : Client Secret\n",
    "FOURSQUARE_KEYS = {'0ANT5D4J32NF4ZRXBNJGOUE1GHSYM01E34BALDNLVJVAMZIG' : 'SXIAJWKCXVAZ32UJYYSD4DOTHIOJRUPHXIUJFEBSJHRMJ454'\n",
    "                  ,'JFIPVNQGSM3DJVNB4KPAFDWCS2AN5MLT0CUXMBDEEZ3TFTN1' : 'O5MIDR0SDHPOMB4VRJRVJY2TV0YHYIYRKUUANCQKKN3UYOF4'\n",
    "                  ,'ONXQAZDGDXM0J2NWDIO15QUNYVAYXIP2GEAKGFDMOY01BPZ5' : '15QX0C5ZDA2WTU0QRKARHH4SUTMRMAJFISIZAWSPOE4I0ITX'\n",
    "                  ,'0XBHK2D0ZYU2SGO2GFJHEEPBLBOI2N5HY33TFTHK5VYM1VPP' : 'WOWHI5MO1M2FH2V3JTAHSAZRH4TE4YKA3HDOT5BUNHXFHL4U'\n",
    "                  ,'KS1TFYVJUHPCPMZOCWEYNLSAJNU5JH5WXHXW3PXPGCI2GLGI' : 'AOW13VCPF2STWG0EV12QCIXZL0FPPRFZOAAGPHYRHZU0VL0U'}"
   ]
  },
  {
   "cell_type": "code",
   "execution_count": 23,
   "metadata": {},
   "outputs": [
    {
     "name": "stdout",
     "output_type": "stream",
     "text": [
      "[0, 0, 0, 0, 0]\n"
     ]
    }
   ],
   "source": [
    "# iterate thorugh keys and get the data in chunks for all villages in dataframe\n",
    "i = 0\n",
    "j = 381\n",
    "venues = []\n",
    "for key,secret in FOURSQUARE_KEYS.items():\n",
    "    # initializing foursquare API credentials\n",
    "    CLIENT_ID = key # your Foursquare ID\n",
    "    CLIENT_SECRET = secret # your Foursquare Secret\n",
    "    VERSION = '20180605' # Foursquare API version\n",
    "    LIMIT = 100\n",
    "    \n",
    "    # slice data into smaller parts such that API call is limited to 950 call per day\n",
    "    data = df[i:j]\n",
    "    # function takes a lot of time\n",
    "    ranchi_venue = getNearbyVenues(names=data['Village'],\n",
    "                                   latitudes=data['Latitude'],\n",
    "                                   longitudes=data['Longitude']\n",
    "                                  )\n",
    "    venues.append(ranchi_venue)\n",
    "    \n",
    "    # set correct slicing parameter\n",
    "    i += 381\n",
    "    if j != None:\n",
    "        j += 381\n",
    "        if j > 1903:\n",
    "            j = None"
   ]
  },
  {
   "cell_type": "markdown",
   "metadata": {},
   "source": [
    "### After getting data in different dataframes the data frames will be appended."
   ]
  },
  {
   "cell_type": "code",
   "execution_count": null,
   "metadata": {},
   "outputs": [],
   "source": [
    "ranchi_venues = pd.concat([venues], ignore_index= True)"
   ]
  },
  {
   "cell_type": "code",
   "execution_count": null,
   "metadata": {},
   "outputs": [],
   "source": [
    "ranchi_venues.info()"
   ]
  },
  {
   "cell_type": "code",
   "execution_count": null,
   "metadata": {},
   "outputs": [],
   "source": [
    "ranchi_venues.head()"
   ]
  },
  {
   "cell_type": "markdown",
   "metadata": {},
   "source": [
    "## Saving the data for future usage"
   ]
  },
  {
   "cell_type": "code",
   "execution_count": null,
   "metadata": {},
   "outputs": [],
   "source": [
    "ranchi_venues.to_csv('ranchi_venues.csv')"
   ]
  },
  {
   "cell_type": "code",
   "execution_count": null,
   "metadata": {},
   "outputs": [],
   "source": []
  }
 ],
 "metadata": {
  "kernelspec": {
   "display_name": "Python 3",
   "language": "python",
   "name": "python3"
  },
  "language_info": {
   "codemirror_mode": {
    "name": "ipython",
    "version": 3
   },
   "file_extension": ".py",
   "mimetype": "text/x-python",
   "name": "python",
   "nbconvert_exporter": "python",
   "pygments_lexer": "ipython3",
   "version": "3.7.3"
  }
 },
 "nbformat": 4,
 "nbformat_minor": 2
}
