{
 "cells": [
  {
   "cell_type": "markdown",
   "metadata": {},
   "source": [
    "# Scrape list of sub division, district in a city"
   ]
  },
  {
   "cell_type": "code",
   "execution_count": 1,
   "metadata": {},
   "outputs": [],
   "source": [
    "# Using beautiful soup to scrape data\n",
    "from bs4 import BeautifulSoup\n",
    "import requests\n",
    "import pandas as pd\n",
    "import numpy as np"
   ]
  },
  {
   "cell_type": "markdown",
   "metadata": {},
   "source": [
    "## Create a function to get the latitude and longitude of a place based on address"
   ]
  },
  {
   "cell_type": "code",
   "execution_count": 2,
   "metadata": {},
   "outputs": [],
   "source": [
    "# use geocoder library, if not present use !conda install -c conda-forge geocoder\n",
    "import geocoder\n",
    "# Google API key is required for the geocoder library to work, save the API key in OS environment variables as GOOGLE_API_KEY\n",
    "# and then access thay key here\n",
    "import os\n",
    "# Use BING_API_KEY when choosing to use bing geocoding instead of google geocoding.\n",
    "BING_API_KEY = 'AksNN-3luSfNBssyZ3Ju4i78nIrFLt1UtYo--YWQj9oyfxSwyXkdsqykWk3FeTXB' # os.environ['BING_API_KEY']"
   ]
  },
  {
   "cell_type": "code",
   "execution_count": 3,
   "metadata": {},
   "outputs": [],
   "source": [
    "# This function will take an adress and return the latlng of that adress\n",
    "def get_latlng(address):\n",
    "    # using bing geocoder API since it is better.\n",
    "    g = geocoder.bing(address, key = BING_API_KEY)\n",
    "    return pd.Series(g.latlng)"
   ]
  },
  {
   "cell_type": "code",
   "execution_count": 4,
   "metadata": {},
   "outputs": [],
   "source": [
    "# Function returns a soup object on the basis of URL\n",
    "def get_soup_object(url):\n",
    "    source_data = requests.get(url).text\n",
    "    return BeautifulSoup(source_data,'lxml')"
   ]
  },
  {
   "cell_type": "markdown",
   "metadata": {},
   "source": [
    "## Ranchi\n"
   ]
  },
  {
   "cell_type": "code",
   "execution_count": null,
   "metadata": {},
   "outputs": [],
   "source": [
    "# initialize url\n",
    "rnc_data_url = 'http://vlist.in/district/364.html'\n",
    "# use function to get soup object\n",
    "soup = get_soup_object(rnc_data_url)\n",
    "print('Soup object created')"
   ]
  },
  {
   "cell_type": "code",
   "execution_count": null,
   "metadata": {},
   "outputs": [],
   "source": [
    "village_url_header = 'http://vlist.in'\n",
    "district_name = 'Ranchi'"
   ]
  },
  {
   "cell_type": "code",
   "execution_count": null,
   "metadata": {},
   "outputs": [],
   "source": [
    "# function extracts row from the table from government website. This will return the name in the table and the link associated with the name\n",
    "def extract_row(table_row):\n",
    "    table_row = table_row.find_all('td')\n",
    "    \n",
    "    index = table_row[0].text\n",
    "    \n",
    "    link = village_url_header + table_row[1].find('a')['href']\n",
    "    \n",
    "    name = table_row[1].text\n",
    "    \n",
    "    return link, name"
   ]
  },
  {
   "cell_type": "code",
   "execution_count": null,
   "metadata": {},
   "outputs": [],
   "source": [
    "# extracting the block rows\n",
    "table_rows = soup.find_all('tr')\n",
    "table_rows = table_rows[1:]\n",
    "table_rows = table_rows[1:]\n",
    "data = []\n",
    "# for every block row all the villages will also be extracted\n",
    "for table_row in table_rows:\n",
    "    \n",
    "    sub_district_link, block_name = extract_row(table_row)\n",
    "    print(block_name)\n",
    "    # getting the sub villages in block\n",
    "    soup_village = get_soup_object(sub_district_link)\n",
    "    # get all the table rows for individual villages in block\n",
    "    sub_table_rows = soup_village.find_all('tr')\n",
    "    sub_table_rows = sub_table_rows[1:]\n",
    "    \n",
    "    # extract individual village name and store it in data along with block name and district name\n",
    "    for sub_table_row in sub_table_rows:\n",
    "    \n",
    "        sub_link, village_name = extract_row(sub_table_row)\n",
    "        \n",
    "        data.append([village_name, block_name, district_name])\n",
    "\n",
    "print(data[0])"
   ]
  },
  {
   "cell_type": "markdown",
   "metadata": {},
   "source": [
    "## Store data in dataframe"
   ]
  },
  {
   "cell_type": "code",
   "execution_count": null,
   "metadata": {},
   "outputs": [],
   "source": [
    "# save data in csv for future usage\n",
    "header = ['Village','Block','District']\n",
    "df = pd.DataFrame(data= data, columns= header)"
   ]
  },
  {
   "cell_type": "code",
   "execution_count": null,
   "metadata": {},
   "outputs": [],
   "source": [
    "df.head()"
   ]
  },
  {
   "cell_type": "markdown",
   "metadata": {},
   "source": [
    "## Get latitude and longitude for subdivisions"
   ]
  },
  {
   "cell_type": "code",
   "execution_count": null,
   "metadata": {},
   "outputs": [],
   "source": [
    "# using the get_latlng function to define latitude and longitude columns of the data frame\n",
    "df[['Latitude','Longitude']] = df.apply(lambda x: get_latlng(x.Village +', '+ x.Block + ', ' + x.District), axis=1)\n",
    "df.head()"
   ]
  },
  {
   "cell_type": "code",
   "execution_count": null,
   "metadata": {},
   "outputs": [],
   "source": [
    "df.info()"
   ]
  },
  {
   "cell_type": "code",
   "execution_count": null,
   "metadata": {},
   "outputs": [],
   "source": [
    "df.dropna(inplace= True)\n",
    "df.info()"
   ]
  },
  {
   "cell_type": "markdown",
   "metadata": {},
   "source": [
    "## Step 4: Store the data in a csv"
   ]
  },
  {
   "cell_type": "code",
   "execution_count": null,
   "metadata": {},
   "outputs": [],
   "source": [
    "# data will be used later\n",
    "df.to_csv('ranchi_villages.csv')"
   ]
  },
  {
   "cell_type": "markdown",
   "metadata": {},
   "source": [
    "## Delhi"
   ]
  },
  {
   "cell_type": "code",
   "execution_count": 78,
   "metadata": {},
   "outputs": [
    {
     "name": "stdout",
     "output_type": "stream",
     "text": [
      "soup object created\n"
     ]
    }
   ],
   "source": [
    "delhi_data_url = 'https://en.wikipedia.org/wiki/Neighbourhoods_of_Delhi'\n",
    "# initialize soup object\n",
    "soup = get_soup_object(delhi_data_url)\n",
    "print('soup object created')"
   ]
  },
  {
   "cell_type": "code",
   "execution_count": 83,
   "metadata": {},
   "outputs": [
    {
     "name": "stdout",
     "output_type": "stream",
     "text": [
      "185\n"
     ]
    }
   ],
   "source": [
    "# get the relevant rows\n",
    "row_groups = soup.find_all('ul')\n",
    "row_groups = row_groups[1:10]\n",
    "row_items = []\n",
    "for row_group in row_groups:\n",
    "    rows = row_group.find_all('li')\n",
    "    for row in rows:\n",
    "        row_items.append([row.text,'Delhi'])\n",
    "# print the number of neighborhood obtained\n",
    "print(len(row_items))"
   ]
  },
  {
   "cell_type": "code",
   "execution_count": 84,
   "metadata": {},
   "outputs": [
    {
     "data": {
      "text/html": [
       "<div>\n",
       "<style scoped>\n",
       "    .dataframe tbody tr th:only-of-type {\n",
       "        vertical-align: middle;\n",
       "    }\n",
       "\n",
       "    .dataframe tbody tr th {\n",
       "        vertical-align: top;\n",
       "    }\n",
       "\n",
       "    .dataframe thead th {\n",
       "        text-align: right;\n",
       "    }\n",
       "</style>\n",
       "<table border=\"1\" class=\"dataframe\">\n",
       "  <thead>\n",
       "    <tr style=\"text-align: right;\">\n",
       "      <th></th>\n",
       "      <th>Neighborhood</th>\n",
       "      <th>City</th>\n",
       "    </tr>\n",
       "  </thead>\n",
       "  <tbody>\n",
       "    <tr>\n",
       "      <th>180</th>\n",
       "      <td>Tihar Village</td>\n",
       "      <td>Delhi</td>\n",
       "    </tr>\n",
       "    <tr>\n",
       "      <th>181</th>\n",
       "      <td>Tilak Nagar</td>\n",
       "      <td>Delhi</td>\n",
       "    </tr>\n",
       "    <tr>\n",
       "      <th>182</th>\n",
       "      <td>Uttam Nagar</td>\n",
       "      <td>Delhi</td>\n",
       "    </tr>\n",
       "    <tr>\n",
       "      <th>183</th>\n",
       "      <td>Vikas Nagar</td>\n",
       "      <td>Delhi</td>\n",
       "    </tr>\n",
       "    <tr>\n",
       "      <th>184</th>\n",
       "      <td>Vikaspuri</td>\n",
       "      <td>Delhi</td>\n",
       "    </tr>\n",
       "  </tbody>\n",
       "</table>\n",
       "</div>"
      ],
      "text/plain": [
       "      Neighborhood   City\n",
       "180  Tihar Village  Delhi\n",
       "181    Tilak Nagar  Delhi\n",
       "182    Uttam Nagar  Delhi\n",
       "183    Vikas Nagar  Delhi\n",
       "184      Vikaspuri  Delhi"
      ]
     },
     "execution_count": 84,
     "metadata": {},
     "output_type": "execute_result"
    }
   ],
   "source": [
    "# create a data frame\n",
    "header = ['Neighborhood','City']\n",
    "df = pd.DataFrame(data= row_items, columns= header)\n",
    "df.tail()"
   ]
  },
  {
   "cell_type": "code",
   "execution_count": 85,
   "metadata": {},
   "outputs": [
    {
     "data": {
      "text/html": [
       "<div>\n",
       "<style scoped>\n",
       "    .dataframe tbody tr th:only-of-type {\n",
       "        vertical-align: middle;\n",
       "    }\n",
       "\n",
       "    .dataframe tbody tr th {\n",
       "        vertical-align: top;\n",
       "    }\n",
       "\n",
       "    .dataframe thead th {\n",
       "        text-align: right;\n",
       "    }\n",
       "</style>\n",
       "<table border=\"1\" class=\"dataframe\">\n",
       "  <thead>\n",
       "    <tr style=\"text-align: right;\">\n",
       "      <th></th>\n",
       "      <th>Neighborhood</th>\n",
       "      <th>City</th>\n",
       "      <th>Latitude</th>\n",
       "      <th>Longitude</th>\n",
       "    </tr>\n",
       "  </thead>\n",
       "  <tbody>\n",
       "    <tr>\n",
       "      <th>0</th>\n",
       "      <td>Adarsh Nagar</td>\n",
       "      <td>Delhi</td>\n",
       "      <td>28.720341</td>\n",
       "      <td>77.172661</td>\n",
       "    </tr>\n",
       "    <tr>\n",
       "      <th>1</th>\n",
       "      <td>Ashok Vihar</td>\n",
       "      <td>Delhi</td>\n",
       "      <td>28.690420</td>\n",
       "      <td>77.176064</td>\n",
       "    </tr>\n",
       "    <tr>\n",
       "      <th>2</th>\n",
       "      <td>Azadpur</td>\n",
       "      <td>Delhi</td>\n",
       "      <td>28.712420</td>\n",
       "      <td>77.173111</td>\n",
       "    </tr>\n",
       "    <tr>\n",
       "      <th>3</th>\n",
       "      <td>Bawana</td>\n",
       "      <td>Delhi</td>\n",
       "      <td>28.797661</td>\n",
       "      <td>77.045258</td>\n",
       "    </tr>\n",
       "    <tr>\n",
       "      <th>4</th>\n",
       "      <td>Begum Pur</td>\n",
       "      <td>Delhi</td>\n",
       "      <td>28.732599</td>\n",
       "      <td>77.052170</td>\n",
       "    </tr>\n",
       "  </tbody>\n",
       "</table>\n",
       "</div>"
      ],
      "text/plain": [
       "   Neighborhood   City   Latitude  Longitude\n",
       "0  Adarsh Nagar  Delhi  28.720341  77.172661\n",
       "1   Ashok Vihar  Delhi  28.690420  77.176064\n",
       "2       Azadpur  Delhi  28.712420  77.173111\n",
       "3        Bawana  Delhi  28.797661  77.045258\n",
       "4     Begum Pur  Delhi  28.732599  77.052170"
      ]
     },
     "execution_count": 85,
     "metadata": {},
     "output_type": "execute_result"
    }
   ],
   "source": [
    "# using the get_latlng function to define latitude and longitude columns of the data frame\n",
    "df[['Latitude','Longitude']] = df.apply(lambda x: get_latlng(x.Neighborhood + ', ' + x.City), axis=1)\n",
    "df.head()"
   ]
  },
  {
   "cell_type": "code",
   "execution_count": 86,
   "metadata": {},
   "outputs": [
    {
     "name": "stdout",
     "output_type": "stream",
     "text": [
      "<class 'pandas.core.frame.DataFrame'>\n",
      "RangeIndex: 185 entries, 0 to 184\n",
      "Data columns (total 4 columns):\n",
      "Neighborhood    185 non-null object\n",
      "City            185 non-null object\n",
      "Latitude        185 non-null float64\n",
      "Longitude       185 non-null float64\n",
      "dtypes: float64(2), object(2)\n",
      "memory usage: 5.9+ KB\n"
     ]
    }
   ],
   "source": [
    "df.info()"
   ]
  },
  {
   "cell_type": "code",
   "execution_count": 87,
   "metadata": {},
   "outputs": [],
   "source": [
    "df.to_csv('delhi_subdiv.csv')"
   ]
  },
  {
   "cell_type": "markdown",
   "metadata": {},
   "source": [
    "## Chennai"
   ]
  },
  {
   "cell_type": "code",
   "execution_count": 38,
   "metadata": {},
   "outputs": [
    {
     "name": "stdout",
     "output_type": "stream",
     "text": [
      "soup object created\n"
     ]
    }
   ],
   "source": [
    "# Initialize the url\n",
    "chennai_data_url = 'https://en.wikipedia.org/wiki/List_of_neighbourhoods_of_Chennai'\n",
    "# initialize soup object\n",
    "soup = get_soup_object(chennai_data_url)\n",
    "print('soup object created')"
   ]
  },
  {
   "cell_type": "code",
   "execution_count": 45,
   "metadata": {},
   "outputs": [
    {
     "name": "stdout",
     "output_type": "stream",
     "text": [
      "181\n"
     ]
    }
   ],
   "source": [
    "# get the relevant rows\n",
    "row_groups = soup.find_all('ul')\n",
    "row_groups = row_groups[1:8]\n",
    "row_items = []\n",
    "for row_group in row_groups:\n",
    "    rows = row_group.find_all('li')\n",
    "    for row in rows:\n",
    "        row_items.append([row.text,'Chennai'])\n",
    "# print the number of neighborhood obtained\n",
    "print(len(row_items))"
   ]
  },
  {
   "cell_type": "code",
   "execution_count": 46,
   "metadata": {},
   "outputs": [
    {
     "data": {
      "text/html": [
       "<div>\n",
       "<style scoped>\n",
       "    .dataframe tbody tr th:only-of-type {\n",
       "        vertical-align: middle;\n",
       "    }\n",
       "\n",
       "    .dataframe tbody tr th {\n",
       "        vertical-align: top;\n",
       "    }\n",
       "\n",
       "    .dataframe thead th {\n",
       "        text-align: right;\n",
       "    }\n",
       "</style>\n",
       "<table border=\"1\" class=\"dataframe\">\n",
       "  <thead>\n",
       "    <tr style=\"text-align: right;\">\n",
       "      <th></th>\n",
       "      <th>Neighborhood</th>\n",
       "      <th>City</th>\n",
       "    </tr>\n",
       "  </thead>\n",
       "  <tbody>\n",
       "    <tr>\n",
       "      <th>0</th>\n",
       "      <td>Red Hills</td>\n",
       "      <td>Chennai</td>\n",
       "    </tr>\n",
       "    <tr>\n",
       "      <th>1</th>\n",
       "      <td>Ayanavaram</td>\n",
       "      <td>Chennai</td>\n",
       "    </tr>\n",
       "    <tr>\n",
       "      <th>2</th>\n",
       "      <td>Royapuram</td>\n",
       "      <td>Chennai</td>\n",
       "    </tr>\n",
       "    <tr>\n",
       "      <th>3</th>\n",
       "      <td>Korukkupet</td>\n",
       "      <td>Chennai</td>\n",
       "    </tr>\n",
       "    <tr>\n",
       "      <th>4</th>\n",
       "      <td>Vyasarpadi</td>\n",
       "      <td>Chennai</td>\n",
       "    </tr>\n",
       "  </tbody>\n",
       "</table>\n",
       "</div>"
      ],
      "text/plain": [
       "  Neighborhood     City\n",
       "0    Red Hills  Chennai\n",
       "1   Ayanavaram  Chennai\n",
       "2    Royapuram  Chennai\n",
       "3   Korukkupet  Chennai\n",
       "4   Vyasarpadi  Chennai"
      ]
     },
     "execution_count": 46,
     "metadata": {},
     "output_type": "execute_result"
    }
   ],
   "source": [
    "# save data in csv for future usage\n",
    "header = ['Neighborhood','City']\n",
    "df = pd.DataFrame(data= row_items, columns= header)\n",
    "df.head()"
   ]
  },
  {
   "cell_type": "code",
   "execution_count": 47,
   "metadata": {},
   "outputs": [
    {
     "data": {
      "text/html": [
       "<div>\n",
       "<style scoped>\n",
       "    .dataframe tbody tr th:only-of-type {\n",
       "        vertical-align: middle;\n",
       "    }\n",
       "\n",
       "    .dataframe tbody tr th {\n",
       "        vertical-align: top;\n",
       "    }\n",
       "\n",
       "    .dataframe thead th {\n",
       "        text-align: right;\n",
       "    }\n",
       "</style>\n",
       "<table border=\"1\" class=\"dataframe\">\n",
       "  <thead>\n",
       "    <tr style=\"text-align: right;\">\n",
       "      <th></th>\n",
       "      <th>Neighborhood</th>\n",
       "      <th>City</th>\n",
       "      <th>Latitude</th>\n",
       "      <th>Longitude</th>\n",
       "    </tr>\n",
       "  </thead>\n",
       "  <tbody>\n",
       "    <tr>\n",
       "      <th>0</th>\n",
       "      <td>Red Hills</td>\n",
       "      <td>Chennai</td>\n",
       "      <td>13.19543</td>\n",
       "      <td>80.184303</td>\n",
       "    </tr>\n",
       "    <tr>\n",
       "      <th>1</th>\n",
       "      <td>Ayanavaram</td>\n",
       "      <td>Chennai</td>\n",
       "      <td>13.09883</td>\n",
       "      <td>80.232384</td>\n",
       "    </tr>\n",
       "    <tr>\n",
       "      <th>2</th>\n",
       "      <td>Royapuram</td>\n",
       "      <td>Chennai</td>\n",
       "      <td>13.11396</td>\n",
       "      <td>80.294220</td>\n",
       "    </tr>\n",
       "    <tr>\n",
       "      <th>3</th>\n",
       "      <td>Korukkupet</td>\n",
       "      <td>Chennai</td>\n",
       "      <td>13.11680</td>\n",
       "      <td>80.277298</td>\n",
       "    </tr>\n",
       "    <tr>\n",
       "      <th>4</th>\n",
       "      <td>Vyasarpadi</td>\n",
       "      <td>Chennai</td>\n",
       "      <td>13.11778</td>\n",
       "      <td>80.251678</td>\n",
       "    </tr>\n",
       "  </tbody>\n",
       "</table>\n",
       "</div>"
      ],
      "text/plain": [
       "  Neighborhood     City  Latitude  Longitude\n",
       "0    Red Hills  Chennai  13.19543  80.184303\n",
       "1   Ayanavaram  Chennai  13.09883  80.232384\n",
       "2    Royapuram  Chennai  13.11396  80.294220\n",
       "3   Korukkupet  Chennai  13.11680  80.277298\n",
       "4   Vyasarpadi  Chennai  13.11778  80.251678"
      ]
     },
     "execution_count": 47,
     "metadata": {},
     "output_type": "execute_result"
    }
   ],
   "source": [
    "# using the get_latlng function to define latitude and longitude columns of the data frame\n",
    "df[['Latitude','Longitude']] = df.apply(lambda x: get_latlng(x.Neighborhood + ', ' + x.City), axis=1)\n",
    "df.head()"
   ]
  },
  {
   "cell_type": "code",
   "execution_count": 48,
   "metadata": {},
   "outputs": [
    {
     "name": "stdout",
     "output_type": "stream",
     "text": [
      "<class 'pandas.core.frame.DataFrame'>\n",
      "RangeIndex: 181 entries, 0 to 180\n",
      "Data columns (total 4 columns):\n",
      "Neighborhood    181 non-null object\n",
      "City            181 non-null object\n",
      "Latitude        181 non-null float64\n",
      "Longitude       181 non-null float64\n",
      "dtypes: float64(2), object(2)\n",
      "memory usage: 5.7+ KB\n"
     ]
    }
   ],
   "source": [
    "df.info()"
   ]
  },
  {
   "cell_type": "code",
   "execution_count": 49,
   "metadata": {},
   "outputs": [],
   "source": [
    "df.to_csv('chennai_subdiv.csv')"
   ]
  },
  {
   "cell_type": "markdown",
   "metadata": {},
   "source": [
    "## Kolkata"
   ]
  },
  {
   "cell_type": "code",
   "execution_count": 59,
   "metadata": {},
   "outputs": [
    {
     "name": "stdout",
     "output_type": "stream",
     "text": [
      "soup object created\n"
     ]
    }
   ],
   "source": [
    "# Initialize the url\n",
    "kolkata_data_url = 'https://en.wikipedia.org/wiki/Neighbourhoods_in_Kolkata_Metropolitan_Area'\n",
    "# initialize soup object\n",
    "soup = get_soup_object(kolkata_data_url)\n",
    "print('soup object created')"
   ]
  },
  {
   "cell_type": "code",
   "execution_count": 71,
   "metadata": {},
   "outputs": [
    {
     "name": "stdout",
     "output_type": "stream",
     "text": [
      "43\n"
     ]
    }
   ],
   "source": [
    "# get the relevant rows\n",
    "row_groups = soup.find_all('ul')\n",
    "row_groups = row_groups[1:7]\n",
    "row_items = []\n",
    "for row_group in row_groups:\n",
    "    rows = row_group.find_all('li')\n",
    "    for row in rows:\n",
    "        row_items.append([row.text,'Kolkata'])\n",
    "        \n",
    "print(len(row_items))"
   ]
  },
  {
   "cell_type": "code",
   "execution_count": 72,
   "metadata": {},
   "outputs": [
    {
     "data": {
      "text/html": [
       "<div>\n",
       "<style scoped>\n",
       "    .dataframe tbody tr th:only-of-type {\n",
       "        vertical-align: middle;\n",
       "    }\n",
       "\n",
       "    .dataframe tbody tr th {\n",
       "        vertical-align: top;\n",
       "    }\n",
       "\n",
       "    .dataframe thead th {\n",
       "        text-align: right;\n",
       "    }\n",
       "</style>\n",
       "<table border=\"1\" class=\"dataframe\">\n",
       "  <thead>\n",
       "    <tr style=\"text-align: right;\">\n",
       "      <th></th>\n",
       "      <th>Neighborhood</th>\n",
       "      <th>City</th>\n",
       "    </tr>\n",
       "  </thead>\n",
       "  <tbody>\n",
       "    <tr>\n",
       "      <th>0</th>\n",
       "      <td>Kalyani Municipality</td>\n",
       "      <td>Kolkata</td>\n",
       "    </tr>\n",
       "    <tr>\n",
       "      <th>1</th>\n",
       "      <td>Gayespur Municipality</td>\n",
       "      <td>Kolkata</td>\n",
       "    </tr>\n",
       "    <tr>\n",
       "      <th>2</th>\n",
       "      <td>Kanchrapara Municipality</td>\n",
       "      <td>Kolkata</td>\n",
       "    </tr>\n",
       "    <tr>\n",
       "      <th>3</th>\n",
       "      <td>Halisahar Municipality</td>\n",
       "      <td>Kolkata</td>\n",
       "    </tr>\n",
       "    <tr>\n",
       "      <th>4</th>\n",
       "      <td>Naihati Municipality</td>\n",
       "      <td>Kolkata</td>\n",
       "    </tr>\n",
       "  </tbody>\n",
       "</table>\n",
       "</div>"
      ],
      "text/plain": [
       "               Neighborhood     City\n",
       "0      Kalyani Municipality  Kolkata\n",
       "1     Gayespur Municipality  Kolkata\n",
       "2  Kanchrapara Municipality  Kolkata\n",
       "3    Halisahar Municipality  Kolkata\n",
       "4      Naihati Municipality  Kolkata"
      ]
     },
     "execution_count": 72,
     "metadata": {},
     "output_type": "execute_result"
    }
   ],
   "source": [
    "# save data in csv for future usage\n",
    "header = ['Neighborhood','City']\n",
    "df = pd.DataFrame(data= row_items, columns= header)\n",
    "df.head()"
   ]
  },
  {
   "cell_type": "code",
   "execution_count": 73,
   "metadata": {},
   "outputs": [
    {
     "data": {
      "text/html": [
       "<div>\n",
       "<style scoped>\n",
       "    .dataframe tbody tr th:only-of-type {\n",
       "        vertical-align: middle;\n",
       "    }\n",
       "\n",
       "    .dataframe tbody tr th {\n",
       "        vertical-align: top;\n",
       "    }\n",
       "\n",
       "    .dataframe thead th {\n",
       "        text-align: right;\n",
       "    }\n",
       "</style>\n",
       "<table border=\"1\" class=\"dataframe\">\n",
       "  <thead>\n",
       "    <tr style=\"text-align: right;\">\n",
       "      <th></th>\n",
       "      <th>Neighborhood</th>\n",
       "      <th>City</th>\n",
       "      <th>Latitude</th>\n",
       "      <th>Longitude</th>\n",
       "    </tr>\n",
       "  </thead>\n",
       "  <tbody>\n",
       "    <tr>\n",
       "      <th>0</th>\n",
       "      <td>Kalyani Municipality</td>\n",
       "      <td>Kolkata</td>\n",
       "      <td>22.570539</td>\n",
       "      <td>88.371239</td>\n",
       "    </tr>\n",
       "    <tr>\n",
       "      <th>1</th>\n",
       "      <td>Gayespur Municipality</td>\n",
       "      <td>Kolkata</td>\n",
       "      <td>22.570539</td>\n",
       "      <td>88.371239</td>\n",
       "    </tr>\n",
       "    <tr>\n",
       "      <th>2</th>\n",
       "      <td>Kanchrapara Municipality</td>\n",
       "      <td>Kolkata</td>\n",
       "      <td>22.951059</td>\n",
       "      <td>88.431023</td>\n",
       "    </tr>\n",
       "    <tr>\n",
       "      <th>3</th>\n",
       "      <td>Halisahar Municipality</td>\n",
       "      <td>Kolkata</td>\n",
       "      <td>22.570539</td>\n",
       "      <td>88.371239</td>\n",
       "    </tr>\n",
       "    <tr>\n",
       "      <th>4</th>\n",
       "      <td>Naihati Municipality</td>\n",
       "      <td>Kolkata</td>\n",
       "      <td>22.895760</td>\n",
       "      <td>88.428757</td>\n",
       "    </tr>\n",
       "  </tbody>\n",
       "</table>\n",
       "</div>"
      ],
      "text/plain": [
       "               Neighborhood     City   Latitude  Longitude\n",
       "0      Kalyani Municipality  Kolkata  22.570539  88.371239\n",
       "1     Gayespur Municipality  Kolkata  22.570539  88.371239\n",
       "2  Kanchrapara Municipality  Kolkata  22.951059  88.431023\n",
       "3    Halisahar Municipality  Kolkata  22.570539  88.371239\n",
       "4      Naihati Municipality  Kolkata  22.895760  88.428757"
      ]
     },
     "execution_count": 73,
     "metadata": {},
     "output_type": "execute_result"
    }
   ],
   "source": [
    "# using the get_latlng function to define latitude and longitude columns of the data frame\n",
    "df[['Latitude','Longitude']] = df.apply(lambda x: get_latlng(x.Neighborhood + ', ' + x.City), axis=1)\n",
    "df.head()"
   ]
  },
  {
   "cell_type": "code",
   "execution_count": 74,
   "metadata": {},
   "outputs": [
    {
     "name": "stdout",
     "output_type": "stream",
     "text": [
      "<class 'pandas.core.frame.DataFrame'>\n",
      "RangeIndex: 43 entries, 0 to 42\n",
      "Data columns (total 4 columns):\n",
      "Neighborhood    43 non-null object\n",
      "City            43 non-null object\n",
      "Latitude        43 non-null float64\n",
      "Longitude       43 non-null float64\n",
      "dtypes: float64(2), object(2)\n",
      "memory usage: 1.4+ KB\n"
     ]
    }
   ],
   "source": [
    "df.info()"
   ]
  },
  {
   "cell_type": "code",
   "execution_count": 75,
   "metadata": {},
   "outputs": [],
   "source": [
    "df.to_csv('kolkata_subdiv.csv')"
   ]
  },
  {
   "cell_type": "code",
   "execution_count": 116,
   "metadata": {},
   "outputs": [],
   "source": [
    "df = pd.read_csv('kolkata_subdiv.csv',index_col = 0)"
   ]
  },
  {
   "cell_type": "code",
   "execution_count": 118,
   "metadata": {},
   "outputs": [
    {
     "data": {
      "text/html": [
       "<div>\n",
       "<style scoped>\n",
       "    .dataframe tbody tr th:only-of-type {\n",
       "        vertical-align: middle;\n",
       "    }\n",
       "\n",
       "    .dataframe tbody tr th {\n",
       "        vertical-align: top;\n",
       "    }\n",
       "\n",
       "    .dataframe thead th {\n",
       "        text-align: right;\n",
       "    }\n",
       "</style>\n",
       "<table border=\"1\" class=\"dataframe\">\n",
       "  <thead>\n",
       "    <tr style=\"text-align: right;\">\n",
       "      <th></th>\n",
       "      <th>Neighborhood</th>\n",
       "      <th>City</th>\n",
       "      <th>Latitude</th>\n",
       "      <th>Longitude</th>\n",
       "    </tr>\n",
       "  </thead>\n",
       "  <tbody>\n",
       "    <tr>\n",
       "      <th>0</th>\n",
       "      <td>Kalyani Municipality</td>\n",
       "      <td>Kolkata</td>\n",
       "      <td>22.570539</td>\n",
       "      <td>88.371239</td>\n",
       "    </tr>\n",
       "    <tr>\n",
       "      <th>1</th>\n",
       "      <td>Gayespur Municipality</td>\n",
       "      <td>Kolkata</td>\n",
       "      <td>22.570539</td>\n",
       "      <td>88.371239</td>\n",
       "    </tr>\n",
       "    <tr>\n",
       "      <th>2</th>\n",
       "      <td>Kanchrapara Municipality</td>\n",
       "      <td>Kolkata</td>\n",
       "      <td>22.951059</td>\n",
       "      <td>88.431023</td>\n",
       "    </tr>\n",
       "    <tr>\n",
       "      <th>3</th>\n",
       "      <td>Halisahar Municipality</td>\n",
       "      <td>Kolkata</td>\n",
       "      <td>22.570539</td>\n",
       "      <td>88.371239</td>\n",
       "    </tr>\n",
       "    <tr>\n",
       "      <th>4</th>\n",
       "      <td>Naihati Municipality</td>\n",
       "      <td>Kolkata</td>\n",
       "      <td>22.895760</td>\n",
       "      <td>88.428757</td>\n",
       "    </tr>\n",
       "  </tbody>\n",
       "</table>\n",
       "</div>"
      ],
      "text/plain": [
       "               Neighborhood     City   Latitude  Longitude\n",
       "0      Kalyani Municipality  Kolkata  22.570539  88.371239\n",
       "1     Gayespur Municipality  Kolkata  22.570539  88.371239\n",
       "2  Kanchrapara Municipality  Kolkata  22.951059  88.431023\n",
       "3    Halisahar Municipality  Kolkata  22.570539  88.371239\n",
       "4      Naihati Municipality  Kolkata  22.895760  88.428757"
      ]
     },
     "execution_count": 118,
     "metadata": {},
     "output_type": "execute_result"
    }
   ],
   "source": [
    "df.head()"
   ]
  },
  {
   "cell_type": "markdown",
   "metadata": {},
   "source": [
    "## Mumbai"
   ]
  },
  {
   "cell_type": "code",
   "execution_count": 90,
   "metadata": {},
   "outputs": [
    {
     "name": "stdout",
     "output_type": "stream",
     "text": [
      "soup object created\n"
     ]
    }
   ],
   "source": [
    "# Initialize the url\n",
    "mumbai_data_url = 'https://en.wikipedia.org/wiki/List_of_neighbourhoods_in_Mumbai'\n",
    "# initialize soup object\n",
    "soup = get_soup_object(mumbai_data_url)\n",
    "print('soup object created')"
   ]
  },
  {
   "cell_type": "code",
   "execution_count": 102,
   "metadata": {},
   "outputs": [
    {
     "name": "stdout",
     "output_type": "stream",
     "text": [
      "122\n"
     ]
    }
   ],
   "source": [
    "# get the relevant rows\n",
    "row_groups = soup.find_all('ul')\n",
    "row_groups = row_groups[5:36]\n",
    "row_items = []\n",
    "for row_group in row_groups:\n",
    "    rows = row_group.find_all('li')\n",
    "    for row in rows:\n",
    "        row_items.append([row.text,'Mumbai'])\n",
    "        \n",
    "print(len(row_items))"
   ]
  },
  {
   "cell_type": "code",
   "execution_count": 103,
   "metadata": {},
   "outputs": [
    {
     "data": {
      "text/html": [
       "<div>\n",
       "<style scoped>\n",
       "    .dataframe tbody tr th:only-of-type {\n",
       "        vertical-align: middle;\n",
       "    }\n",
       "\n",
       "    .dataframe tbody tr th {\n",
       "        vertical-align: top;\n",
       "    }\n",
       "\n",
       "    .dataframe thead th {\n",
       "        text-align: right;\n",
       "    }\n",
       "</style>\n",
       "<table border=\"1\" class=\"dataframe\">\n",
       "  <thead>\n",
       "    <tr style=\"text-align: right;\">\n",
       "      <th></th>\n",
       "      <th>Neighborhood</th>\n",
       "      <th>City</th>\n",
       "    </tr>\n",
       "  </thead>\n",
       "  <tbody>\n",
       "    <tr>\n",
       "      <th>0</th>\n",
       "      <td>Amboli</td>\n",
       "      <td>Mumbai</td>\n",
       "    </tr>\n",
       "    <tr>\n",
       "      <th>1</th>\n",
       "      <td>Chakala</td>\n",
       "      <td>Mumbai</td>\n",
       "    </tr>\n",
       "    <tr>\n",
       "      <th>2</th>\n",
       "      <td>D.N. Nagar</td>\n",
       "      <td>Mumbai</td>\n",
       "    </tr>\n",
       "    <tr>\n",
       "      <th>3</th>\n",
       "      <td>Four Bungalows</td>\n",
       "      <td>Mumbai</td>\n",
       "    </tr>\n",
       "    <tr>\n",
       "      <th>4</th>\n",
       "      <td>JB Nagar</td>\n",
       "      <td>Mumbai</td>\n",
       "    </tr>\n",
       "  </tbody>\n",
       "</table>\n",
       "</div>"
      ],
      "text/plain": [
       "     Neighborhood    City\n",
       "0          Amboli  Mumbai\n",
       "1         Chakala  Mumbai\n",
       "2      D.N. Nagar  Mumbai\n",
       "3  Four Bungalows  Mumbai\n",
       "4        JB Nagar  Mumbai"
      ]
     },
     "execution_count": 103,
     "metadata": {},
     "output_type": "execute_result"
    }
   ],
   "source": [
    "# save data in csv for future usage\n",
    "header = ['Neighborhood','City']\n",
    "df = pd.DataFrame(data= row_items, columns= header)\n",
    "df.head()"
   ]
  },
  {
   "cell_type": "code",
   "execution_count": 104,
   "metadata": {},
   "outputs": [
    {
     "data": {
      "text/html": [
       "<div>\n",
       "<style scoped>\n",
       "    .dataframe tbody tr th:only-of-type {\n",
       "        vertical-align: middle;\n",
       "    }\n",
       "\n",
       "    .dataframe tbody tr th {\n",
       "        vertical-align: top;\n",
       "    }\n",
       "\n",
       "    .dataframe thead th {\n",
       "        text-align: right;\n",
       "    }\n",
       "</style>\n",
       "<table border=\"1\" class=\"dataframe\">\n",
       "  <thead>\n",
       "    <tr style=\"text-align: right;\">\n",
       "      <th></th>\n",
       "      <th>Neighborhood</th>\n",
       "      <th>City</th>\n",
       "      <th>Latitude</th>\n",
       "      <th>Longitude</th>\n",
       "    </tr>\n",
       "  </thead>\n",
       "  <tbody>\n",
       "    <tr>\n",
       "      <th>0</th>\n",
       "      <td>Amboli</td>\n",
       "      <td>Mumbai</td>\n",
       "      <td>19.129061</td>\n",
       "      <td>72.846451</td>\n",
       "    </tr>\n",
       "    <tr>\n",
       "      <th>1</th>\n",
       "      <td>Chakala</td>\n",
       "      <td>Mumbai</td>\n",
       "      <td>19.108360</td>\n",
       "      <td>72.862343</td>\n",
       "    </tr>\n",
       "    <tr>\n",
       "      <th>2</th>\n",
       "      <td>D.N. Nagar</td>\n",
       "      <td>Mumbai</td>\n",
       "      <td>19.124084</td>\n",
       "      <td>72.831375</td>\n",
       "    </tr>\n",
       "    <tr>\n",
       "      <th>3</th>\n",
       "      <td>Four Bungalows</td>\n",
       "      <td>Mumbai</td>\n",
       "      <td>19.126301</td>\n",
       "      <td>72.824318</td>\n",
       "    </tr>\n",
       "    <tr>\n",
       "      <th>4</th>\n",
       "      <td>JB Nagar</td>\n",
       "      <td>Mumbai</td>\n",
       "      <td>19.105770</td>\n",
       "      <td>72.864098</td>\n",
       "    </tr>\n",
       "  </tbody>\n",
       "</table>\n",
       "</div>"
      ],
      "text/plain": [
       "     Neighborhood    City   Latitude  Longitude\n",
       "0          Amboli  Mumbai  19.129061  72.846451\n",
       "1         Chakala  Mumbai  19.108360  72.862343\n",
       "2      D.N. Nagar  Mumbai  19.124084  72.831375\n",
       "3  Four Bungalows  Mumbai  19.126301  72.824318\n",
       "4        JB Nagar  Mumbai  19.105770  72.864098"
      ]
     },
     "execution_count": 104,
     "metadata": {},
     "output_type": "execute_result"
    }
   ],
   "source": [
    "# using the get_latlng function to define latitude and longitude columns of the data frame\n",
    "df[['Latitude','Longitude']] = df.apply(lambda x: get_latlng(x.Neighborhood + ', ' + x.City), axis=1)\n",
    "df.head()"
   ]
  },
  {
   "cell_type": "code",
   "execution_count": 105,
   "metadata": {},
   "outputs": [
    {
     "name": "stdout",
     "output_type": "stream",
     "text": [
      "<class 'pandas.core.frame.DataFrame'>\n",
      "RangeIndex: 122 entries, 0 to 121\n",
      "Data columns (total 4 columns):\n",
      "Neighborhood    122 non-null object\n",
      "City            122 non-null object\n",
      "Latitude        122 non-null float64\n",
      "Longitude       122 non-null float64\n",
      "dtypes: float64(2), object(2)\n",
      "memory usage: 3.9+ KB\n"
     ]
    }
   ],
   "source": [
    "df.info()"
   ]
  },
  {
   "cell_type": "code",
   "execution_count": 106,
   "metadata": {},
   "outputs": [],
   "source": [
    "df.to_csv('mumbai_subdiv.csv')"
   ]
  },
  {
   "cell_type": "markdown",
   "metadata": {},
   "source": [
    "## Visualize the locations on a map."
   ]
  },
  {
   "cell_type": "code",
   "execution_count": 52,
   "metadata": {},
   "outputs": [],
   "source": [
    "#!conda install -c conda-forge folium --yes # uncomment this line if folium is missing\n",
    "import folium"
   ]
  },
  {
   "cell_type": "code",
   "execution_count": 111,
   "metadata": {},
   "outputs": [],
   "source": [
    "# Function takes in a data frame with Latitude, Longitude, Neighborhood and City columns and shows it on map\n",
    "def visualize_area_in_map(data):\n",
    "    # add markers to map\n",
    "    for lat, lng, neighborhood, city in zip(data['Latitude'], data['Longitude'], data['Neighborhood'], data['City']):\n",
    "        label = '{}, {}'.format(neighborhood, city)\n",
    "        label = folium.Popup(label, parse_html=True)\n",
    "        folium.CircleMarker(\n",
    "            [lat, lng],\n",
    "            radius=2,\n",
    "            popup=label,\n",
    "            color='blue',\n",
    "            fill=True,\n",
    "            fill_color='#3186cc',\n",
    "            fill_opacity=0.7,\n",
    "            parse_html=False).add_to(map)  \n",
    "    \n",
    "    return map"
   ]
  },
  {
   "cell_type": "code",
   "execution_count": 112,
   "metadata": {},
   "outputs": [
    {
     "name": "stdout",
     "output_type": "stream",
     "text": [
      "Lat :  18.940170288085938  Long :  72.8348617553711\n"
     ]
    }
   ],
   "source": [
    "city = 'Mumbai'\n",
    "latitude, longitude = get_latlng(city)\n",
    "print('Lat : ',latitude,' Long : ',longitude)"
   ]
  },
  {
   "cell_type": "code",
   "execution_count": 113,
   "metadata": {},
   "outputs": [
    {
     "data": {
      "text/html": [
       "<div style=\"width:100%;\"><div style=\"position:relative;width:100%;height:0;padding-bottom:60%;\"><iframe src=\"data:text/html;charset=utf-8;base64,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\" style=\"position:absolute;width:100%;height:100%;left:0;top:0;border:none !important;\" allowfullscreen webkitallowfullscreen mozallowfullscreen></iframe></div></div>"
      ],
      "text/plain": [
       "<folium.folium.Map at 0x22e46202710>"
      ]
     },
     "execution_count": 113,
     "metadata": {},
     "output_type": "execute_result"
    }
   ],
   "source": [
    "# create map of Toronto using latitude and longitude values\n",
    "map = folium.Map(location=[latitude, longitude], zoom_start=10)\n",
    "\n",
    "# data to be used for map\n",
    "data = df.dropna()\n",
    "\n",
    "visualize_area_in_map(data)"
   ]
  },
  {
   "cell_type": "code",
   "execution_count": null,
   "metadata": {},
   "outputs": [],
   "source": []
  }
 ],
 "metadata": {
  "kernelspec": {
   "display_name": "Python 3",
   "language": "python",
   "name": "python3"
  },
  "language_info": {
   "codemirror_mode": {
    "name": "ipython",
    "version": 3
   },
   "file_extension": ".py",
   "mimetype": "text/x-python",
   "name": "python",
   "nbconvert_exporter": "python",
   "pygments_lexer": "ipython3",
   "version": "3.7.3"
  }
 },
 "nbformat": 4,
 "nbformat_minor": 2
}
