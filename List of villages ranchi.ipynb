{
 "cells": [
  {
   "cell_type": "markdown",
   "metadata": {},
   "source": [
    "# Scrape list of villages in Ranchi, get their respenctive latitude and longitude and store them in a csv 'ranchi_villages.csv'"
   ]
  },
  {
   "cell_type": "code",
   "execution_count": 2,
   "metadata": {},
   "outputs": [],
   "source": [
    "# Using beautiful soup to scrape ranchi blocks\n",
    "from bs4 import BeautifulSoup\n",
    "import requests\n",
    "import pandas as pd\n",
    "import numpy as np"
   ]
  },
  {
   "cell_type": "markdown",
   "metadata": {},
   "source": [
    "## Step 1: Scrape list of villages in Ranchi from web."
   ]
  },
  {
   "cell_type": "code",
   "execution_count": null,
   "metadata": {},
   "outputs": [],
   "source": [
    "def get_soup_object(url):\n",
    "    source_data = requests.get(url).text\n",
    "    return BeautifulSoup(source_data,'lxml')"
   ]
  },
  {
   "cell_type": "code",
   "execution_count": null,
   "metadata": {},
   "outputs": [],
   "source": [
    "# initialize url\n",
    "rnc_data_url = 'http://vlist.in/district/364.html'\n",
    "# use function to get soup object\n",
    "soup = get_soup_object(rnc_data_url)\n",
    "print('Soup object created')"
   ]
  },
  {
   "cell_type": "code",
   "execution_count": null,
   "metadata": {},
   "outputs": [],
   "source": [
    "village_url_header = 'http://vlist.in'\n",
    "district_name = 'Ranchi'"
   ]
  },
  {
   "cell_type": "code",
   "execution_count": null,
   "metadata": {},
   "outputs": [],
   "source": [
    "# function extracts row from the table from government website. This will return the name in the table and the link associated with the name\n",
    "def extract_row(table_row):\n",
    "    table_row = table_row.find_all('td')\n",
    "    \n",
    "    index = table_row[0].text\n",
    "    \n",
    "    link = village_url_header + table_row[1].find('a')['href']\n",
    "    \n",
    "    name = table_row[1].text\n",
    "    \n",
    "    return link, name"
   ]
  },
  {
   "cell_type": "code",
   "execution_count": null,
   "metadata": {},
   "outputs": [],
   "source": [
    "# extracting the block rows\n",
    "table_rows = soup.find_all('tr')\n",
    "table_rows = table_rows[1:]\n",
    "table_rows = table_rows[1:]\n",
    "data = []\n",
    "# for every block row all the villages will also be extracted\n",
    "for table_row in table_rows:\n",
    "    \n",
    "    sub_district_link, block_name = extract_row(table_row)\n",
    "    print(block_name)\n",
    "    # getting the sub villages in block\n",
    "    soup_village = get_soup_object(sub_district_link)\n",
    "    # get all the table rows for individual villages in block\n",
    "    sub_table_rows = soup_village.find_all('tr')\n",
    "    sub_table_rows = sub_table_rows[1:]\n",
    "    \n",
    "    # extract individual village name and store it in data along with block name and district name\n",
    "    for sub_table_row in sub_table_rows:\n",
    "    \n",
    "        sub_link, village_name = extract_row(sub_table_row)\n",
    "        \n",
    "        data.append([village_name, block_name, district_name])\n",
    "\n",
    "print(data[0])"
   ]
  },
  {
   "cell_type": "markdown",
   "metadata": {},
   "source": [
    "## Step 2: Store scraped data in a data frame"
   ]
  },
  {
   "cell_type": "code",
   "execution_count": null,
   "metadata": {},
   "outputs": [],
   "source": [
    "# save data in csv for future usage\n",
    "header = ['Village','Block','District']\n",
    "df = pd.DataFrame(data= data, columns= header)"
   ]
  },
  {
   "cell_type": "code",
   "execution_count": null,
   "metadata": {},
   "outputs": [],
   "source": [
    "df.head()"
   ]
  },
  {
   "cell_type": "markdown",
   "metadata": {},
   "source": [
    "## Step 3: for every row(village item) in the dataframe get its longitude and latitude and append to the dataframe"
   ]
  },
  {
   "cell_type": "code",
   "execution_count": 3,
   "metadata": {},
   "outputs": [],
   "source": [
    "# use geocoder library, if not present use !conda install -c conda-forge geocoder\n",
    "import geocoder\n",
    "# Google API key is required for the geocoder library to work, save the API key in OS environment variables as GOOGLE_API_KEY\n",
    "# and then access thay key here\n",
    "import os\n",
    "# Use BING_API_KEY when choosing to use bing geocoding instead of google geocoding.\n",
    "BING_API_KEY = 'AksNN-3luSfNBssyZ3Ju4i78nIrFLt1UtYo--YWQj9oyfxSwyXkdsqykWk3FeTXB' # os.environ['BING_API_KEY']"
   ]
  },
  {
   "cell_type": "code",
   "execution_count": 4,
   "metadata": {},
   "outputs": [],
   "source": [
    "# This function will take an adress and return the latlng of that adress\n",
    "def get_latlng(address):\n",
    "    # using bing geocoder API since it is better.\n",
    "    g = geocoder.bing(address, key = BING_API_KEY)\n",
    "    return pd.Series(g.latlng)"
   ]
  },
  {
   "cell_type": "code",
   "execution_count": null,
   "metadata": {},
   "outputs": [],
   "source": [
    "# using the get_latlng function to define latitude and longitude columns of the data frame\n",
    "df[['Latitude','Longitude']] = df.apply(lambda x: get_latlng(x.Village +', '+ x.Block + ', ' + x.District), axis=1)\n",
    "df.head()"
   ]
  },
  {
   "cell_type": "code",
   "execution_count": null,
   "metadata": {},
   "outputs": [],
   "source": [
    "df.info()"
   ]
  },
  {
   "cell_type": "code",
   "execution_count": null,
   "metadata": {},
   "outputs": [],
   "source": [
    "df.dropna(inplace= True)\n",
    "df.info()"
   ]
  },
  {
   "cell_type": "markdown",
   "metadata": {},
   "source": [
    "## Step 4: Store the data in a csv"
   ]
  },
  {
   "cell_type": "code",
   "execution_count": null,
   "metadata": {},
   "outputs": [],
   "source": [
    "df.to_csv('ranchi_villages.csv')"
   ]
  },
  {
   "cell_type": "markdown",
   "metadata": {},
   "source": [
    "## Visualize the villages on a map."
   ]
  },
  {
   "cell_type": "code",
   "execution_count": null,
   "metadata": {},
   "outputs": [],
   "source": [
    "#!conda install -c conda-forge folium --yes # uncomment this line if folium is missing\n",
    "import folium"
   ]
  },
  {
   "cell_type": "code",
   "execution_count": 5,
   "metadata": {},
   "outputs": [],
   "source": [
    "rnc_latitude = 23.3441\n",
    "rnc_longitude = 85.3096"
   ]
  },
  {
   "cell_type": "code",
   "execution_count": null,
   "metadata": {},
   "outputs": [],
   "source": [
    "# create map of Toronto using latitude and longitude values\n",
    "map_ranchi = folium.Map(location=[rnc_latitude, rnc_longitude], zoom_start=10)\n",
    "\n",
    "# data to be used for map\n",
    "data = df.dropna()\n",
    "\n",
    "# add markers to map\n",
    "for lat, lng, village, block in zip(data['Latitude'], data['Longitude'], data['Village'], data['Block']):\n",
    "    label = '{}, {}'.format(village, block)\n",
    "    label = folium.Popup(label, parse_html=True)\n",
    "    folium.CircleMarker(\n",
    "        [lat, lng],\n",
    "        radius=1.3,\n",
    "        popup=label,\n",
    "        color='blue',\n",
    "        fill=True,\n",
    "        fill_color='#3186cc',\n",
    "        fill_opacity=0.7,\n",
    "        parse_html=False).add_to(map_ranchi)  \n",
    "    \n",
    "map_ranchi"
   ]
  }
 ],
 "metadata": {
  "kernelspec": {
   "display_name": "Python 3",
   "language": "python",
   "name": "python3"
  },
  "language_info": {
   "codemirror_mode": {
    "name": "ipython",
    "version": 3
   },
   "file_extension": ".py",
   "mimetype": "text/x-python",
   "name": "python",
   "nbconvert_exporter": "python",
   "pygments_lexer": "ipython3",
   "version": "3.7.3"
  }
 },
 "nbformat": 4,
 "nbformat_minor": 2
}
