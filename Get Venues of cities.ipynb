{
 "cells": [
  {
   "cell_type": "markdown",
   "metadata": {},
   "source": [
    "# Download nearby venues data from foursquare API for a city"
   ]
  },
  {
   "cell_type": "code",
   "execution_count": 36,
   "metadata": {},
   "outputs": [],
   "source": [
    "import pandas as pd\n",
    "import requests"
   ]
  },
  {
   "cell_type": "markdown",
   "metadata": {},
   "source": [
    "## Define a function to get nearbyplaces based on latitude and longitude"
   ]
  },
  {
   "cell_type": "code",
   "execution_count": 35,
   "metadata": {},
   "outputs": [],
   "source": [
    "# intialize a function to get all the venue in the neighbourhood\n",
    "def getNearbyVenues(names, latitudes, longitudes, radius=1000):\n",
    "    \n",
    "    venues_list=[]\n",
    "    for name, lat, lng in zip(names, latitudes, longitudes):\n",
    "                    \n",
    "        # create the API request URL\n",
    "        url = 'https://api.foursquare.com/v2/venues/explore?&client_id={}&client_secret={}&v={}&ll={},{}&radius={}&limit={}'.format(\n",
    "            CLIENT_ID, \n",
    "            CLIENT_SECRET, \n",
    "            VERSION, \n",
    "            lat, \n",
    "            lng, \n",
    "            radius, \n",
    "            LIMIT)\n",
    "        \n",
    "        print(url)\n",
    "            \n",
    "        # make the GET request\n",
    "        response = requests.get(url).json()[\"response\"]\n",
    "        results = response['groups'][0]['items']\n",
    "        \n",
    "        # return only relevant information for each nearby venue\n",
    "        venues_list.append([(\n",
    "            name, \n",
    "            lat, \n",
    "            lng, \n",
    "            v['venue']['name'], \n",
    "            v['venue']['location']['lat'], \n",
    "            v['venue']['location']['lng'],  \n",
    "            v['venue']['categories'][0]['name']) for v in results])\n",
    "\n",
    "    nearby_venues = pd.DataFrame([item for venue_list in venues_list for item in venue_list])\n",
    "    nearby_venues.columns = ['Neighborhood', \n",
    "                  'Neighborhood Latitude', \n",
    "                  'Neighborhood Longitude', \n",
    "                  'Venue', \n",
    "                  'Venue Latitude', \n",
    "                  'Venue Longitude', \n",
    "                  'Venue Category']\n",
    "    \n",
    "    return(nearby_venues)"
   ]
  },
  {
   "cell_type": "markdown",
   "metadata": {},
   "source": [
    "### Storing API keys in this cell"
   ]
  },
  {
   "cell_type": "code",
   "execution_count": 51,
   "metadata": {},
   "outputs": [],
   "source": [
    "# @hidden\n",
    "# Client Key : Client Secret\n",
    "FOURSQUARE_KEYS = [['0ANT5D4J32NF4ZRXBNJGOUE1GHSYM01E34BALDNLVJVAMZIG', 'SXIAJWKCXVAZ32UJYYSD4DOTHIOJRUPHXIUJFEBSJHRMJ454']\n",
    "                  ,['JFIPVNQGSM3DJVNB4KPAFDWCS2AN5MLT0CUXMBDEEZ3TFTN1', 'O5MIDR0SDHPOMB4VRJRVJY2TV0YHYIYRKUUANCQKKN3UYOF4']\n",
    "                  ,['ONXQAZDGDXM0J2NWDIO15QUNYVAYXIP2GEAKGFDMOY01BPZ5', '15QX0C5ZDA2WTU0QRKARHH4SUTMRMAJFISIZAWSPOE4I0ITX']\n",
    "                  ,'0XBHK2D0ZYU2SGO2GFJHEEPBLBOI2N5HY33TFTHK5VYM1VPP', 'WOWHI5MO1M2FH2V3JTAHSAZRH4TE4YKA3HDOT5BUNHXFHL4U'\n",
    "                  ,['KS1TFYVJUHPCPMZOCWEYNLSAJNU5JH5WXHXW3PXPGCI2GLGI', 'AOW13VCPF2STWG0EV12QCIXZL0FPPRFZOAAGPHYRHZU0VL0U']]"
   ]
  },
  {
   "cell_type": "code",
   "execution_count": 33,
   "metadata": {},
   "outputs": [],
   "source": [
    "# list of all the cities in which we are interested in\n",
    "cities = ['delhi'\n",
    "          ,'mumbai'\n",
    "          ,'kolkata'\n",
    "          ,'chennai']"
   ]
  },
  {
   "cell_type": "markdown",
   "metadata": {},
   "source": [
    "## For each city we call the function getNearbyVenues() and get the venues in each neighborhood of a city within a radius of 1 km"
   ]
  },
  {
   "cell_type": "code",
   "execution_count": 50,
   "metadata": {
    "scrolled": true
   },
   "outputs": [
    {
     "name": "stdout",
     "output_type": "stream",
     "text": [
      "delhi completed!\n",
      "mumbai completed!\n",
      "kolkata completed!\n",
      "chennai completed!\n"
     ]
    }
   ],
   "source": [
    "for city, key in zip(cities,FOURSQUARE_KEYS[:len(cities)]):\n",
    "    \n",
    "    # initializing foursquare API credentials\n",
    "    CLIENT_ID = key[0] # your Foursquare ID\n",
    "    CLIENT_SECRET = key[1] # your Foursquare Secret\n",
    "    VERSION = '20180605' # Foursquare API version\n",
    "    LIMIT = 100\n",
    "    \n",
    "    df = pd.read_csv(city + '_subdiv.csv', index_col = 0)\n",
    "    data = df.copy()\n",
    "    venues = getNearbyVenues(names=data['Neighborhood'],\n",
    "                                   latitudes=data['Latitude'],\n",
    "                                   longitudes=data['Longitude']\n",
    "                                  )\n",
    "    venues.to_csv(city + '_venues.csv')\n",
    "    print(city,'completed!')"
   ]
  },
  {
   "cell_type": "markdown",
   "metadata": {},
   "source": [
    "## Exploring the data downloaded from the API"
   ]
  },
  {
   "cell_type": "markdown",
   "metadata": {},
   "source": [
    "### Delhi"
   ]
  },
  {
   "cell_type": "code",
   "execution_count": 54,
   "metadata": {},
   "outputs": [
    {
     "data": {
      "text/html": [
       "<div>\n",
       "<style scoped>\n",
       "    .dataframe tbody tr th:only-of-type {\n",
       "        vertical-align: middle;\n",
       "    }\n",
       "\n",
       "    .dataframe tbody tr th {\n",
       "        vertical-align: top;\n",
       "    }\n",
       "\n",
       "    .dataframe thead th {\n",
       "        text-align: right;\n",
       "    }\n",
       "</style>\n",
       "<table border=\"1\" class=\"dataframe\">\n",
       "  <thead>\n",
       "    <tr style=\"text-align: right;\">\n",
       "      <th></th>\n",
       "      <th>Neighborhood</th>\n",
       "      <th>Neighborhood Latitude</th>\n",
       "      <th>Neighborhood Longitude</th>\n",
       "      <th>Venue</th>\n",
       "      <th>Venue Latitude</th>\n",
       "      <th>Venue Longitude</th>\n",
       "      <th>Venue Category</th>\n",
       "      <th>Venue Summary</th>\n",
       "      <th>Venue Type</th>\n",
       "    </tr>\n",
       "  </thead>\n",
       "  <tbody>\n",
       "    <tr>\n",
       "      <th>0</th>\n",
       "      <td>Adarsh Nagar</td>\n",
       "      <td>28.720341</td>\n",
       "      <td>77.172661</td>\n",
       "      <td>Giani's</td>\n",
       "      <td>28.717900</td>\n",
       "      <td>77.173907</td>\n",
       "      <td>Ice Cream Shop</td>\n",
       "      <td>This spot is popular</td>\n",
       "      <td>general</td>\n",
       "    </tr>\n",
       "    <tr>\n",
       "      <th>1</th>\n",
       "      <td>Adarsh Nagar</td>\n",
       "      <td>28.720341</td>\n",
       "      <td>77.172661</td>\n",
       "      <td>Axis Bank ATM</td>\n",
       "      <td>28.723032</td>\n",
       "      <td>77.170631</td>\n",
       "      <td>ATM</td>\n",
       "      <td>This spot is popular</td>\n",
       "      <td>general</td>\n",
       "    </tr>\n",
       "    <tr>\n",
       "      <th>2</th>\n",
       "      <td>Adarsh Nagar</td>\n",
       "      <td>28.720341</td>\n",
       "      <td>77.172661</td>\n",
       "      <td>Adarsh Nagar Metro Station</td>\n",
       "      <td>28.716598</td>\n",
       "      <td>77.170436</td>\n",
       "      <td>Light Rail Station</td>\n",
       "      <td>This spot is popular</td>\n",
       "      <td>general</td>\n",
       "    </tr>\n",
       "    <tr>\n",
       "      <th>3</th>\n",
       "      <td>Adarsh Nagar</td>\n",
       "      <td>28.720341</td>\n",
       "      <td>77.172661</td>\n",
       "      <td>Vishyavidyalaya Metro Station@Entry gate #1 n ...</td>\n",
       "      <td>28.715596</td>\n",
       "      <td>77.170981</td>\n",
       "      <td>Train Station</td>\n",
       "      <td>This spot is popular</td>\n",
       "      <td>general</td>\n",
       "    </tr>\n",
       "    <tr>\n",
       "      <th>4</th>\n",
       "      <td>Adarsh Nagar</td>\n",
       "      <td>28.720341</td>\n",
       "      <td>77.172661</td>\n",
       "      <td>Pahalwan Dhaba</td>\n",
       "      <td>28.714594</td>\n",
       "      <td>77.172155</td>\n",
       "      <td>Indian Restaurant</td>\n",
       "      <td>This spot is popular</td>\n",
       "      <td>general</td>\n",
       "    </tr>\n",
       "  </tbody>\n",
       "</table>\n",
       "</div>"
      ],
      "text/plain": [
       "   Neighborhood  Neighborhood Latitude  Neighborhood Longitude  \\\n",
       "0  Adarsh Nagar              28.720341               77.172661   \n",
       "1  Adarsh Nagar              28.720341               77.172661   \n",
       "2  Adarsh Nagar              28.720341               77.172661   \n",
       "3  Adarsh Nagar              28.720341               77.172661   \n",
       "4  Adarsh Nagar              28.720341               77.172661   \n",
       "\n",
       "                                               Venue  Venue Latitude  \\\n",
       "0                                            Giani's       28.717900   \n",
       "1                                      Axis Bank ATM       28.723032   \n",
       "2                         Adarsh Nagar Metro Station       28.716598   \n",
       "3  Vishyavidyalaya Metro Station@Entry gate #1 n ...       28.715596   \n",
       "4                                     Pahalwan Dhaba       28.714594   \n",
       "\n",
       "   Venue Longitude      Venue Category         Venue Summary Venue Type  \n",
       "0        77.173907      Ice Cream Shop  This spot is popular    general  \n",
       "1        77.170631                 ATM  This spot is popular    general  \n",
       "2        77.170436  Light Rail Station  This spot is popular    general  \n",
       "3        77.170981       Train Station  This spot is popular    general  \n",
       "4        77.172155   Indian Restaurant  This spot is popular    general  "
      ]
     },
     "execution_count": 54,
     "metadata": {},
     "output_type": "execute_result"
    }
   ],
   "source": [
    "# Delhi\n",
    "df = pd.read_csv('delhi_venues.csv', index_col = 0)\n",
    "df.head()"
   ]
  },
  {
   "cell_type": "code",
   "execution_count": 55,
   "metadata": {},
   "outputs": [
    {
     "name": "stdout",
     "output_type": "stream",
     "text": [
      "<class 'pandas.core.frame.DataFrame'>\n",
      "Int64Index: 3269 entries, 0 to 3268\n",
      "Data columns (total 9 columns):\n",
      "Neighborhood              3269 non-null object\n",
      "Neighborhood Latitude     3269 non-null float64\n",
      "Neighborhood Longitude    3269 non-null float64\n",
      "Venue                     3269 non-null object\n",
      "Venue Latitude            3269 non-null float64\n",
      "Venue Longitude           3269 non-null float64\n",
      "Venue Category            3269 non-null object\n",
      "Venue Summary             3269 non-null object\n",
      "Venue Type                3269 non-null object\n",
      "dtypes: float64(4), object(5)\n",
      "memory usage: 255.4+ KB\n"
     ]
    }
   ],
   "source": [
    "df.info()"
   ]
  },
  {
   "cell_type": "markdown",
   "metadata": {},
   "source": [
    "### Mumbai"
   ]
  },
  {
   "cell_type": "code",
   "execution_count": 56,
   "metadata": {},
   "outputs": [
    {
     "data": {
      "text/html": [
       "<div>\n",
       "<style scoped>\n",
       "    .dataframe tbody tr th:only-of-type {\n",
       "        vertical-align: middle;\n",
       "    }\n",
       "\n",
       "    .dataframe tbody tr th {\n",
       "        vertical-align: top;\n",
       "    }\n",
       "\n",
       "    .dataframe thead th {\n",
       "        text-align: right;\n",
       "    }\n",
       "</style>\n",
       "<table border=\"1\" class=\"dataframe\">\n",
       "  <thead>\n",
       "    <tr style=\"text-align: right;\">\n",
       "      <th></th>\n",
       "      <th>Neighborhood</th>\n",
       "      <th>Neighborhood Latitude</th>\n",
       "      <th>Neighborhood Longitude</th>\n",
       "      <th>Venue</th>\n",
       "      <th>Venue Latitude</th>\n",
       "      <th>Venue Longitude</th>\n",
       "      <th>Venue Category</th>\n",
       "    </tr>\n",
       "  </thead>\n",
       "  <tbody>\n",
       "    <tr>\n",
       "      <th>0</th>\n",
       "      <td>Amboli</td>\n",
       "      <td>19.129061</td>\n",
       "      <td>72.846451</td>\n",
       "      <td>Cafe Arfa</td>\n",
       "      <td>19.128930</td>\n",
       "      <td>72.847140</td>\n",
       "      <td>Indian Restaurant</td>\n",
       "    </tr>\n",
       "    <tr>\n",
       "      <th>1</th>\n",
       "      <td>Amboli</td>\n",
       "      <td>19.129061</td>\n",
       "      <td>72.846451</td>\n",
       "      <td>Shawarma Factory</td>\n",
       "      <td>19.124591</td>\n",
       "      <td>72.840398</td>\n",
       "      <td>Falafel Restaurant</td>\n",
       "    </tr>\n",
       "    <tr>\n",
       "      <th>2</th>\n",
       "      <td>Amboli</td>\n",
       "      <td>19.129061</td>\n",
       "      <td>72.846451</td>\n",
       "      <td>5 Spice , Bandra</td>\n",
       "      <td>19.130421</td>\n",
       "      <td>72.847206</td>\n",
       "      <td>Chinese Restaurant</td>\n",
       "    </tr>\n",
       "    <tr>\n",
       "      <th>3</th>\n",
       "      <td>Amboli</td>\n",
       "      <td>19.129061</td>\n",
       "      <td>72.846451</td>\n",
       "      <td>Jaffer Bhai's Delhi Darbar</td>\n",
       "      <td>19.137714</td>\n",
       "      <td>72.845909</td>\n",
       "      <td>Mughlai Restaurant</td>\n",
       "    </tr>\n",
       "    <tr>\n",
       "      <th>4</th>\n",
       "      <td>Amboli</td>\n",
       "      <td>19.129061</td>\n",
       "      <td>72.846451</td>\n",
       "      <td>Persia Darbar</td>\n",
       "      <td>19.136952</td>\n",
       "      <td>72.846822</td>\n",
       "      <td>Indian Restaurant</td>\n",
       "    </tr>\n",
       "  </tbody>\n",
       "</table>\n",
       "</div>"
      ],
      "text/plain": [
       "  Neighborhood  Neighborhood Latitude  Neighborhood Longitude  \\\n",
       "0       Amboli              19.129061               72.846451   \n",
       "1       Amboli              19.129061               72.846451   \n",
       "2       Amboli              19.129061               72.846451   \n",
       "3       Amboli              19.129061               72.846451   \n",
       "4       Amboli              19.129061               72.846451   \n",
       "\n",
       "                        Venue  Venue Latitude  Venue Longitude  \\\n",
       "0                   Cafe Arfa       19.128930        72.847140   \n",
       "1            Shawarma Factory       19.124591        72.840398   \n",
       "2            5 Spice , Bandra       19.130421        72.847206   \n",
       "3  Jaffer Bhai's Delhi Darbar       19.137714        72.845909   \n",
       "4               Persia Darbar       19.136952        72.846822   \n",
       "\n",
       "       Venue Category  \n",
       "0   Indian Restaurant  \n",
       "1  Falafel Restaurant  \n",
       "2  Chinese Restaurant  \n",
       "3  Mughlai Restaurant  \n",
       "4   Indian Restaurant  "
      ]
     },
     "execution_count": 56,
     "metadata": {},
     "output_type": "execute_result"
    }
   ],
   "source": [
    "# Mumbai\n",
    "df = pd.read_csv('mumbai_venues.csv', index_col = 0)\n",
    "df.head()"
   ]
  },
  {
   "cell_type": "code",
   "execution_count": 57,
   "metadata": {},
   "outputs": [
    {
     "name": "stdout",
     "output_type": "stream",
     "text": [
      "<class 'pandas.core.frame.DataFrame'>\n",
      "Int64Index: 5533 entries, 0 to 5532\n",
      "Data columns (total 7 columns):\n",
      "Neighborhood              5533 non-null object\n",
      "Neighborhood Latitude     5533 non-null float64\n",
      "Neighborhood Longitude    5533 non-null float64\n",
      "Venue                     5533 non-null object\n",
      "Venue Latitude            5533 non-null float64\n",
      "Venue Longitude           5533 non-null float64\n",
      "Venue Category            5533 non-null object\n",
      "dtypes: float64(4), object(3)\n",
      "memory usage: 345.8+ KB\n"
     ]
    }
   ],
   "source": [
    "df.info()"
   ]
  },
  {
   "cell_type": "markdown",
   "metadata": {},
   "source": [
    "### Kolkata"
   ]
  },
  {
   "cell_type": "code",
   "execution_count": 58,
   "metadata": {},
   "outputs": [
    {
     "data": {
      "text/html": [
       "<div>\n",
       "<style scoped>\n",
       "    .dataframe tbody tr th:only-of-type {\n",
       "        vertical-align: middle;\n",
       "    }\n",
       "\n",
       "    .dataframe tbody tr th {\n",
       "        vertical-align: top;\n",
       "    }\n",
       "\n",
       "    .dataframe thead th {\n",
       "        text-align: right;\n",
       "    }\n",
       "</style>\n",
       "<table border=\"1\" class=\"dataframe\">\n",
       "  <thead>\n",
       "    <tr style=\"text-align: right;\">\n",
       "      <th></th>\n",
       "      <th>Neighborhood</th>\n",
       "      <th>Neighborhood Latitude</th>\n",
       "      <th>Neighborhood Longitude</th>\n",
       "      <th>Venue</th>\n",
       "      <th>Venue Latitude</th>\n",
       "      <th>Venue Longitude</th>\n",
       "      <th>Venue Category</th>\n",
       "      <th>Venue Summary</th>\n",
       "      <th>Venue Type</th>\n",
       "    </tr>\n",
       "  </thead>\n",
       "  <tbody>\n",
       "    <tr>\n",
       "      <th>0</th>\n",
       "      <td>Kalyani Municipality</td>\n",
       "      <td>22.570539</td>\n",
       "      <td>88.371239</td>\n",
       "      <td>Bhim Chandra Nag</td>\n",
       "      <td>22.570639</td>\n",
       "      <td>88.371524</td>\n",
       "      <td>Indian Sweet Shop</td>\n",
       "      <td>This spot is popular</td>\n",
       "      <td>general</td>\n",
       "    </tr>\n",
       "    <tr>\n",
       "      <th>1</th>\n",
       "      <td>Kalyani Municipality</td>\n",
       "      <td>22.570539</td>\n",
       "      <td>88.371239</td>\n",
       "      <td>Big Bazaar</td>\n",
       "      <td>22.565919</td>\n",
       "      <td>88.369635</td>\n",
       "      <td>Department Store</td>\n",
       "      <td>This spot is popular</td>\n",
       "      <td>general</td>\n",
       "    </tr>\n",
       "    <tr>\n",
       "      <th>2</th>\n",
       "      <td>Kalyani Municipality</td>\n",
       "      <td>22.570539</td>\n",
       "      <td>88.371239</td>\n",
       "      <td>Indian Coffee House</td>\n",
       "      <td>22.576187</td>\n",
       "      <td>88.364013</td>\n",
       "      <td>Café</td>\n",
       "      <td>This spot is popular</td>\n",
       "      <td>general</td>\n",
       "    </tr>\n",
       "    <tr>\n",
       "      <th>3</th>\n",
       "      <td>Kalyani Municipality</td>\n",
       "      <td>22.570539</td>\n",
       "      <td>88.371239</td>\n",
       "      <td>Paramount</td>\n",
       "      <td>22.573874</td>\n",
       "      <td>88.364496</td>\n",
       "      <td>Juice Bar</td>\n",
       "      <td>This spot is popular</td>\n",
       "      <td>general</td>\n",
       "    </tr>\n",
       "    <tr>\n",
       "      <th>4</th>\n",
       "      <td>Kalyani Municipality</td>\n",
       "      <td>22.570539</td>\n",
       "      <td>88.371239</td>\n",
       "      <td>Café Coffee Day</td>\n",
       "      <td>22.565919</td>\n",
       "      <td>88.369635</td>\n",
       "      <td>Café</td>\n",
       "      <td>This spot is popular</td>\n",
       "      <td>general</td>\n",
       "    </tr>\n",
       "  </tbody>\n",
       "</table>\n",
       "</div>"
      ],
      "text/plain": [
       "           Neighborhood  Neighborhood Latitude  Neighborhood Longitude  \\\n",
       "0  Kalyani Municipality              22.570539               88.371239   \n",
       "1  Kalyani Municipality              22.570539               88.371239   \n",
       "2  Kalyani Municipality              22.570539               88.371239   \n",
       "3  Kalyani Municipality              22.570539               88.371239   \n",
       "4  Kalyani Municipality              22.570539               88.371239   \n",
       "\n",
       "                 Venue  Venue Latitude  Venue Longitude     Venue Category  \\\n",
       "0     Bhim Chandra Nag       22.570639        88.371524  Indian Sweet Shop   \n",
       "1           Big Bazaar       22.565919        88.369635   Department Store   \n",
       "2  Indian Coffee House       22.576187        88.364013               Café   \n",
       "3            Paramount       22.573874        88.364496          Juice Bar   \n",
       "4      Café Coffee Day       22.565919        88.369635               Café   \n",
       "\n",
       "          Venue Summary Venue Type  \n",
       "0  This spot is popular    general  \n",
       "1  This spot is popular    general  \n",
       "2  This spot is popular    general  \n",
       "3  This spot is popular    general  \n",
       "4  This spot is popular    general  "
      ]
     },
     "execution_count": 58,
     "metadata": {},
     "output_type": "execute_result"
    }
   ],
   "source": [
    "# Kolkata\n",
    "df = pd.read_csv('kolkata_venues.csv', index_col = 0)\n",
    "df.head()"
   ]
  },
  {
   "cell_type": "code",
   "execution_count": 59,
   "metadata": {},
   "outputs": [
    {
     "name": "stdout",
     "output_type": "stream",
     "text": [
      "<class 'pandas.core.frame.DataFrame'>\n",
      "Int64Index: 303 entries, 0 to 302\n",
      "Data columns (total 9 columns):\n",
      "Neighborhood              303 non-null object\n",
      "Neighborhood Latitude     303 non-null float64\n",
      "Neighborhood Longitude    303 non-null float64\n",
      "Venue                     303 non-null object\n",
      "Venue Latitude            303 non-null float64\n",
      "Venue Longitude           303 non-null float64\n",
      "Venue Category            303 non-null object\n",
      "Venue Summary             303 non-null object\n",
      "Venue Type                303 non-null object\n",
      "dtypes: float64(4), object(5)\n",
      "memory usage: 23.7+ KB\n"
     ]
    }
   ],
   "source": [
    "df.info()"
   ]
  },
  {
   "cell_type": "markdown",
   "metadata": {},
   "source": [
    "### Chennai"
   ]
  },
  {
   "cell_type": "code",
   "execution_count": 60,
   "metadata": {},
   "outputs": [
    {
     "data": {
      "text/html": [
       "<div>\n",
       "<style scoped>\n",
       "    .dataframe tbody tr th:only-of-type {\n",
       "        vertical-align: middle;\n",
       "    }\n",
       "\n",
       "    .dataframe tbody tr th {\n",
       "        vertical-align: top;\n",
       "    }\n",
       "\n",
       "    .dataframe thead th {\n",
       "        text-align: right;\n",
       "    }\n",
       "</style>\n",
       "<table border=\"1\" class=\"dataframe\">\n",
       "  <thead>\n",
       "    <tr style=\"text-align: right;\">\n",
       "      <th></th>\n",
       "      <th>Neighborhood</th>\n",
       "      <th>Neighborhood Latitude</th>\n",
       "      <th>Neighborhood Longitude</th>\n",
       "      <th>Venue</th>\n",
       "      <th>Venue Latitude</th>\n",
       "      <th>Venue Longitude</th>\n",
       "      <th>Venue Category</th>\n",
       "    </tr>\n",
       "  </thead>\n",
       "  <tbody>\n",
       "    <tr>\n",
       "      <th>0</th>\n",
       "      <td>Red Hills</td>\n",
       "      <td>13.19543</td>\n",
       "      <td>80.184303</td>\n",
       "      <td>Hotel Balaji Bavan</td>\n",
       "      <td>13.193716</td>\n",
       "      <td>80.185292</td>\n",
       "      <td>Indian Restaurant</td>\n",
       "    </tr>\n",
       "    <tr>\n",
       "      <th>1</th>\n",
       "      <td>Red Hills</td>\n",
       "      <td>13.19543</td>\n",
       "      <td>80.184303</td>\n",
       "      <td>Radha Movie Park</td>\n",
       "      <td>13.193264</td>\n",
       "      <td>80.183417</td>\n",
       "      <td>Multiplex</td>\n",
       "    </tr>\n",
       "    <tr>\n",
       "      <th>2</th>\n",
       "      <td>Red Hills</td>\n",
       "      <td>13.19543</td>\n",
       "      <td>80.184303</td>\n",
       "      <td>Rock Gym</td>\n",
       "      <td>13.194852</td>\n",
       "      <td>80.186736</td>\n",
       "      <td>Gym</td>\n",
       "    </tr>\n",
       "    <tr>\n",
       "      <th>3</th>\n",
       "      <td>Red Hills</td>\n",
       "      <td>13.19543</td>\n",
       "      <td>80.184303</td>\n",
       "      <td>Redhills anna bus stand</td>\n",
       "      <td>13.192871</td>\n",
       "      <td>80.185003</td>\n",
       "      <td>Bus Station</td>\n",
       "    </tr>\n",
       "    <tr>\n",
       "      <th>4</th>\n",
       "      <td>Red Hills</td>\n",
       "      <td>13.19543</td>\n",
       "      <td>80.184303</td>\n",
       "      <td>Naturals</td>\n",
       "      <td>13.191494</td>\n",
       "      <td>80.185965</td>\n",
       "      <td>Spa</td>\n",
       "    </tr>\n",
       "  </tbody>\n",
       "</table>\n",
       "</div>"
      ],
      "text/plain": [
       "  Neighborhood  Neighborhood Latitude  Neighborhood Longitude  \\\n",
       "0    Red Hills               13.19543               80.184303   \n",
       "1    Red Hills               13.19543               80.184303   \n",
       "2    Red Hills               13.19543               80.184303   \n",
       "3    Red Hills               13.19543               80.184303   \n",
       "4    Red Hills               13.19543               80.184303   \n",
       "\n",
       "                     Venue  Venue Latitude  Venue Longitude     Venue Category  \n",
       "0       Hotel Balaji Bavan       13.193716        80.185292  Indian Restaurant  \n",
       "1         Radha Movie Park       13.193264        80.183417          Multiplex  \n",
       "2                 Rock Gym       13.194852        80.186736                Gym  \n",
       "3  Redhills anna bus stand       13.192871        80.185003        Bus Station  \n",
       "4                 Naturals       13.191494        80.185965                Spa  "
      ]
     },
     "execution_count": 60,
     "metadata": {},
     "output_type": "execute_result"
    }
   ],
   "source": [
    "# Chennai\n",
    "df = pd.read_csv('chennai_venues.csv', index_col = 0)\n",
    "df.head()"
   ]
  },
  {
   "cell_type": "code",
   "execution_count": 61,
   "metadata": {},
   "outputs": [
    {
     "name": "stdout",
     "output_type": "stream",
     "text": [
      "<class 'pandas.core.frame.DataFrame'>\n",
      "Int64Index: 2071 entries, 0 to 2070\n",
      "Data columns (total 7 columns):\n",
      "Neighborhood              2071 non-null object\n",
      "Neighborhood Latitude     2071 non-null float64\n",
      "Neighborhood Longitude    2071 non-null float64\n",
      "Venue                     2071 non-null object\n",
      "Venue Latitude            2071 non-null float64\n",
      "Venue Longitude           2071 non-null float64\n",
      "Venue Category            2071 non-null object\n",
      "dtypes: float64(4), object(3)\n",
      "memory usage: 129.4+ KB\n"
     ]
    }
   ],
   "source": [
    "df.info()"
   ]
  }
 ],
 "metadata": {
  "kernelspec": {
   "display_name": "Python 3",
   "language": "python",
   "name": "python3"
  },
  "language_info": {
   "codemirror_mode": {
    "name": "ipython",
    "version": 3
   },
   "file_extension": ".py",
   "mimetype": "text/x-python",
   "name": "python",
   "nbconvert_exporter": "python",
   "pygments_lexer": "ipython3",
   "version": "3.7.3"
  }
 },
 "nbformat": 4,
 "nbformat_minor": 2
}
